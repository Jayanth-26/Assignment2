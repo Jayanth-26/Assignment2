{
  "nbformat": 4,
  "nbformat_minor": 0,
  "metadata": {
    "colab": {
      "provenance": []
    },
    "kernelspec": {
      "name": "python3",
      "display_name": "Python 3"
    },
    "language_info": {
      "name": "python"
    }
  },
  "cells": [
    {
      "cell_type": "markdown",
      "source": [
        "## Loading the dataset"
      ],
      "metadata": {
        "id": "f7DKoQNeeN6W"
      }
    },
    {
      "cell_type": "code",
      "source": [
        "import pandas as pd\n",
        "\n",
        "# Load your dataset\n",
        "df = pd.read_csv(\"/content/train.csv\")\n",
        "df.head()"
      ],
      "metadata": {
        "colab": {
          "base_uri": "https://localhost:8080/",
          "height": 310
        },
        "id": "tfq5ovm04QHA",
        "outputId": "fd3372bb-e77b-449b-95e4-ad73608b9052"
      },
      "execution_count": null,
      "outputs": [
        {
          "output_type": "execute_result",
          "data": {
            "text/plain": [
              "   Unnamed: 0                              Name    Location  Year  \\\n",
              "0           1  Hyundai Creta 1.6 CRDi SX Option        Pune  2015   \n",
              "1           2                      Honda Jazz V     Chennai  2011   \n",
              "2           3                 Maruti Ertiga VDI     Chennai  2012   \n",
              "3           4   Audi A4 New 2.0 TDI Multitronic  Coimbatore  2013   \n",
              "4           6            Nissan Micra Diesel XV      Jaipur  2013   \n",
              "\n",
              "   Kilometers_Driven Fuel_Type Transmission Owner_Type     Mileage   Engine  \\\n",
              "0              41000    Diesel       Manual      First  19.67 kmpl  1582 CC   \n",
              "1              46000    Petrol       Manual      First    13 km/kg  1199 CC   \n",
              "2              87000    Diesel       Manual      First  20.77 kmpl  1248 CC   \n",
              "3              40670    Diesel    Automatic     Second   15.2 kmpl  1968 CC   \n",
              "4              86999    Diesel       Manual      First  23.08 kmpl  1461 CC   \n",
              "\n",
              "       Power  Seats  New_Price  Price  \n",
              "0  126.2 bhp    5.0        NaN  12.50  \n",
              "1   88.7 bhp    5.0  8.61 Lakh   4.50  \n",
              "2  88.76 bhp    7.0        NaN   6.00  \n",
              "3  140.8 bhp    5.0        NaN  17.74  \n",
              "4   63.1 bhp    5.0        NaN   3.50  "
            ],
            "text/html": [
              "\n",
              "  <div id=\"df-ee3a6ec5-2cae-4660-99a6-ccd29d786538\" class=\"colab-df-container\">\n",
              "    <div>\n",
              "<style scoped>\n",
              "    .dataframe tbody tr th:only-of-type {\n",
              "        vertical-align: middle;\n",
              "    }\n",
              "\n",
              "    .dataframe tbody tr th {\n",
              "        vertical-align: top;\n",
              "    }\n",
              "\n",
              "    .dataframe thead th {\n",
              "        text-align: right;\n",
              "    }\n",
              "</style>\n",
              "<table border=\"1\" class=\"dataframe\">\n",
              "  <thead>\n",
              "    <tr style=\"text-align: right;\">\n",
              "      <th></th>\n",
              "      <th>Unnamed: 0</th>\n",
              "      <th>Name</th>\n",
              "      <th>Location</th>\n",
              "      <th>Year</th>\n",
              "      <th>Kilometers_Driven</th>\n",
              "      <th>Fuel_Type</th>\n",
              "      <th>Transmission</th>\n",
              "      <th>Owner_Type</th>\n",
              "      <th>Mileage</th>\n",
              "      <th>Engine</th>\n",
              "      <th>Power</th>\n",
              "      <th>Seats</th>\n",
              "      <th>New_Price</th>\n",
              "      <th>Price</th>\n",
              "    </tr>\n",
              "  </thead>\n",
              "  <tbody>\n",
              "    <tr>\n",
              "      <th>0</th>\n",
              "      <td>1</td>\n",
              "      <td>Hyundai Creta 1.6 CRDi SX Option</td>\n",
              "      <td>Pune</td>\n",
              "      <td>2015</td>\n",
              "      <td>41000</td>\n",
              "      <td>Diesel</td>\n",
              "      <td>Manual</td>\n",
              "      <td>First</td>\n",
              "      <td>19.67 kmpl</td>\n",
              "      <td>1582 CC</td>\n",
              "      <td>126.2 bhp</td>\n",
              "      <td>5.0</td>\n",
              "      <td>NaN</td>\n",
              "      <td>12.50</td>\n",
              "    </tr>\n",
              "    <tr>\n",
              "      <th>1</th>\n",
              "      <td>2</td>\n",
              "      <td>Honda Jazz V</td>\n",
              "      <td>Chennai</td>\n",
              "      <td>2011</td>\n",
              "      <td>46000</td>\n",
              "      <td>Petrol</td>\n",
              "      <td>Manual</td>\n",
              "      <td>First</td>\n",
              "      <td>13 km/kg</td>\n",
              "      <td>1199 CC</td>\n",
              "      <td>88.7 bhp</td>\n",
              "      <td>5.0</td>\n",
              "      <td>8.61 Lakh</td>\n",
              "      <td>4.50</td>\n",
              "    </tr>\n",
              "    <tr>\n",
              "      <th>2</th>\n",
              "      <td>3</td>\n",
              "      <td>Maruti Ertiga VDI</td>\n",
              "      <td>Chennai</td>\n",
              "      <td>2012</td>\n",
              "      <td>87000</td>\n",
              "      <td>Diesel</td>\n",
              "      <td>Manual</td>\n",
              "      <td>First</td>\n",
              "      <td>20.77 kmpl</td>\n",
              "      <td>1248 CC</td>\n",
              "      <td>88.76 bhp</td>\n",
              "      <td>7.0</td>\n",
              "      <td>NaN</td>\n",
              "      <td>6.00</td>\n",
              "    </tr>\n",
              "    <tr>\n",
              "      <th>3</th>\n",
              "      <td>4</td>\n",
              "      <td>Audi A4 New 2.0 TDI Multitronic</td>\n",
              "      <td>Coimbatore</td>\n",
              "      <td>2013</td>\n",
              "      <td>40670</td>\n",
              "      <td>Diesel</td>\n",
              "      <td>Automatic</td>\n",
              "      <td>Second</td>\n",
              "      <td>15.2 kmpl</td>\n",
              "      <td>1968 CC</td>\n",
              "      <td>140.8 bhp</td>\n",
              "      <td>5.0</td>\n",
              "      <td>NaN</td>\n",
              "      <td>17.74</td>\n",
              "    </tr>\n",
              "    <tr>\n",
              "      <th>4</th>\n",
              "      <td>6</td>\n",
              "      <td>Nissan Micra Diesel XV</td>\n",
              "      <td>Jaipur</td>\n",
              "      <td>2013</td>\n",
              "      <td>86999</td>\n",
              "      <td>Diesel</td>\n",
              "      <td>Manual</td>\n",
              "      <td>First</td>\n",
              "      <td>23.08 kmpl</td>\n",
              "      <td>1461 CC</td>\n",
              "      <td>63.1 bhp</td>\n",
              "      <td>5.0</td>\n",
              "      <td>NaN</td>\n",
              "      <td>3.50</td>\n",
              "    </tr>\n",
              "  </tbody>\n",
              "</table>\n",
              "</div>\n",
              "    <div class=\"colab-df-buttons\">\n",
              "\n",
              "  <div class=\"colab-df-container\">\n",
              "    <button class=\"colab-df-convert\" onclick=\"convertToInteractive('df-ee3a6ec5-2cae-4660-99a6-ccd29d786538')\"\n",
              "            title=\"Convert this dataframe to an interactive table.\"\n",
              "            style=\"display:none;\">\n",
              "\n",
              "  <svg xmlns=\"http://www.w3.org/2000/svg\" height=\"24px\" viewBox=\"0 -960 960 960\">\n",
              "    <path d=\"M120-120v-720h720v720H120Zm60-500h600v-160H180v160Zm220 220h160v-160H400v160Zm0 220h160v-160H400v160ZM180-400h160v-160H180v160Zm440 0h160v-160H620v160ZM180-180h160v-160H180v160Zm440 0h160v-160H620v160Z\"/>\n",
              "  </svg>\n",
              "    </button>\n",
              "\n",
              "  <style>\n",
              "    .colab-df-container {\n",
              "      display:flex;\n",
              "      gap: 12px;\n",
              "    }\n",
              "\n",
              "    .colab-df-convert {\n",
              "      background-color: #E8F0FE;\n",
              "      border: none;\n",
              "      border-radius: 50%;\n",
              "      cursor: pointer;\n",
              "      display: none;\n",
              "      fill: #1967D2;\n",
              "      height: 32px;\n",
              "      padding: 0 0 0 0;\n",
              "      width: 32px;\n",
              "    }\n",
              "\n",
              "    .colab-df-convert:hover {\n",
              "      background-color: #E2EBFA;\n",
              "      box-shadow: 0px 1px 2px rgba(60, 64, 67, 0.3), 0px 1px 3px 1px rgba(60, 64, 67, 0.15);\n",
              "      fill: #174EA6;\n",
              "    }\n",
              "\n",
              "    .colab-df-buttons div {\n",
              "      margin-bottom: 4px;\n",
              "    }\n",
              "\n",
              "    [theme=dark] .colab-df-convert {\n",
              "      background-color: #3B4455;\n",
              "      fill: #D2E3FC;\n",
              "    }\n",
              "\n",
              "    [theme=dark] .colab-df-convert:hover {\n",
              "      background-color: #434B5C;\n",
              "      box-shadow: 0px 1px 3px 1px rgba(0, 0, 0, 0.15);\n",
              "      filter: drop-shadow(0px 1px 2px rgba(0, 0, 0, 0.3));\n",
              "      fill: #FFFFFF;\n",
              "    }\n",
              "  </style>\n",
              "\n",
              "    <script>\n",
              "      const buttonEl =\n",
              "        document.querySelector('#df-ee3a6ec5-2cae-4660-99a6-ccd29d786538 button.colab-df-convert');\n",
              "      buttonEl.style.display =\n",
              "        google.colab.kernel.accessAllowed ? 'block' : 'none';\n",
              "\n",
              "      async function convertToInteractive(key) {\n",
              "        const element = document.querySelector('#df-ee3a6ec5-2cae-4660-99a6-ccd29d786538');\n",
              "        const dataTable =\n",
              "          await google.colab.kernel.invokeFunction('convertToInteractive',\n",
              "                                                    [key], {});\n",
              "        if (!dataTable) return;\n",
              "\n",
              "        const docLinkHtml = 'Like what you see? Visit the ' +\n",
              "          '<a target=\"_blank\" href=https://colab.research.google.com/notebooks/data_table.ipynb>data table notebook</a>'\n",
              "          + ' to learn more about interactive tables.';\n",
              "        element.innerHTML = '';\n",
              "        dataTable['output_type'] = 'display_data';\n",
              "        await google.colab.output.renderOutput(dataTable, element);\n",
              "        const docLink = document.createElement('div');\n",
              "        docLink.innerHTML = docLinkHtml;\n",
              "        element.appendChild(docLink);\n",
              "      }\n",
              "    </script>\n",
              "  </div>\n",
              "\n",
              "\n",
              "<div id=\"df-a1d988aa-43d9-4676-8723-c9e601b2882b\">\n",
              "  <button class=\"colab-df-quickchart\" onclick=\"quickchart('df-a1d988aa-43d9-4676-8723-c9e601b2882b')\"\n",
              "            title=\"Suggest charts\"\n",
              "            style=\"display:none;\">\n",
              "\n",
              "<svg xmlns=\"http://www.w3.org/2000/svg\" height=\"24px\"viewBox=\"0 0 24 24\"\n",
              "     width=\"24px\">\n",
              "    <g>\n",
              "        <path d=\"M19 3H5c-1.1 0-2 .9-2 2v14c0 1.1.9 2 2 2h14c1.1 0 2-.9 2-2V5c0-1.1-.9-2-2-2zM9 17H7v-7h2v7zm4 0h-2V7h2v10zm4 0h-2v-4h2v4z\"/>\n",
              "    </g>\n",
              "</svg>\n",
              "  </button>\n",
              "\n",
              "<style>\n",
              "  .colab-df-quickchart {\n",
              "      --bg-color: #E8F0FE;\n",
              "      --fill-color: #1967D2;\n",
              "      --hover-bg-color: #E2EBFA;\n",
              "      --hover-fill-color: #174EA6;\n",
              "      --disabled-fill-color: #AAA;\n",
              "      --disabled-bg-color: #DDD;\n",
              "  }\n",
              "\n",
              "  [theme=dark] .colab-df-quickchart {\n",
              "      --bg-color: #3B4455;\n",
              "      --fill-color: #D2E3FC;\n",
              "      --hover-bg-color: #434B5C;\n",
              "      --hover-fill-color: #FFFFFF;\n",
              "      --disabled-bg-color: #3B4455;\n",
              "      --disabled-fill-color: #666;\n",
              "  }\n",
              "\n",
              "  .colab-df-quickchart {\n",
              "    background-color: var(--bg-color);\n",
              "    border: none;\n",
              "    border-radius: 50%;\n",
              "    cursor: pointer;\n",
              "    display: none;\n",
              "    fill: var(--fill-color);\n",
              "    height: 32px;\n",
              "    padding: 0;\n",
              "    width: 32px;\n",
              "  }\n",
              "\n",
              "  .colab-df-quickchart:hover {\n",
              "    background-color: var(--hover-bg-color);\n",
              "    box-shadow: 0 1px 2px rgba(60, 64, 67, 0.3), 0 1px 3px 1px rgba(60, 64, 67, 0.15);\n",
              "    fill: var(--button-hover-fill-color);\n",
              "  }\n",
              "\n",
              "  .colab-df-quickchart-complete:disabled,\n",
              "  .colab-df-quickchart-complete:disabled:hover {\n",
              "    background-color: var(--disabled-bg-color);\n",
              "    fill: var(--disabled-fill-color);\n",
              "    box-shadow: none;\n",
              "  }\n",
              "\n",
              "  .colab-df-spinner {\n",
              "    border: 2px solid var(--fill-color);\n",
              "    border-color: transparent;\n",
              "    border-bottom-color: var(--fill-color);\n",
              "    animation:\n",
              "      spin 1s steps(1) infinite;\n",
              "  }\n",
              "\n",
              "  @keyframes spin {\n",
              "    0% {\n",
              "      border-color: transparent;\n",
              "      border-bottom-color: var(--fill-color);\n",
              "      border-left-color: var(--fill-color);\n",
              "    }\n",
              "    20% {\n",
              "      border-color: transparent;\n",
              "      border-left-color: var(--fill-color);\n",
              "      border-top-color: var(--fill-color);\n",
              "    }\n",
              "    30% {\n",
              "      border-color: transparent;\n",
              "      border-left-color: var(--fill-color);\n",
              "      border-top-color: var(--fill-color);\n",
              "      border-right-color: var(--fill-color);\n",
              "    }\n",
              "    40% {\n",
              "      border-color: transparent;\n",
              "      border-right-color: var(--fill-color);\n",
              "      border-top-color: var(--fill-color);\n",
              "    }\n",
              "    60% {\n",
              "      border-color: transparent;\n",
              "      border-right-color: var(--fill-color);\n",
              "    }\n",
              "    80% {\n",
              "      border-color: transparent;\n",
              "      border-right-color: var(--fill-color);\n",
              "      border-bottom-color: var(--fill-color);\n",
              "    }\n",
              "    90% {\n",
              "      border-color: transparent;\n",
              "      border-bottom-color: var(--fill-color);\n",
              "    }\n",
              "  }\n",
              "</style>\n",
              "\n",
              "  <script>\n",
              "    async function quickchart(key) {\n",
              "      const quickchartButtonEl =\n",
              "        document.querySelector('#' + key + ' button');\n",
              "      quickchartButtonEl.disabled = true;  // To prevent multiple clicks.\n",
              "      quickchartButtonEl.classList.add('colab-df-spinner');\n",
              "      try {\n",
              "        const charts = await google.colab.kernel.invokeFunction(\n",
              "            'suggestCharts', [key], {});\n",
              "      } catch (error) {\n",
              "        console.error('Error during call to suggestCharts:', error);\n",
              "      }\n",
              "      quickchartButtonEl.classList.remove('colab-df-spinner');\n",
              "      quickchartButtonEl.classList.add('colab-df-quickchart-complete');\n",
              "    }\n",
              "    (() => {\n",
              "      let quickchartButtonEl =\n",
              "        document.querySelector('#df-a1d988aa-43d9-4676-8723-c9e601b2882b button');\n",
              "      quickchartButtonEl.style.display =\n",
              "        google.colab.kernel.accessAllowed ? 'block' : 'none';\n",
              "    })();\n",
              "  </script>\n",
              "</div>\n",
              "\n",
              "    </div>\n",
              "  </div>\n"
            ],
            "application/vnd.google.colaboratory.intrinsic+json": {
              "type": "dataframe",
              "variable_name": "df",
              "summary": "{\n  \"name\": \"df\",\n  \"rows\": 5847,\n  \"fields\": [\n    {\n      \"column\": \"Unnamed: 0\",\n      \"properties\": {\n        \"dtype\": \"number\",\n        \"std\": 1736,\n        \"min\": 1,\n        \"max\": 6018,\n        \"num_unique_values\": 5847,\n        \"samples\": [\n          5259,\n          3413,\n          4365\n        ],\n        \"semantic_type\": \"\",\n        \"description\": \"\"\n      }\n    },\n    {\n      \"column\": \"Name\",\n      \"properties\": {\n        \"dtype\": \"category\",\n        \"num_unique_values\": 1804,\n        \"samples\": [\n          \"BMW 7 Series 2007-2012 750Li\",\n          \"Maruti Ertiga SHVS VDI\",\n          \"Mahindra XUV300 W8 Diesel\"\n        ],\n        \"semantic_type\": \"\",\n        \"description\": \"\"\n      }\n    },\n    {\n      \"column\": \"Location\",\n      \"properties\": {\n        \"dtype\": \"category\",\n        \"num_unique_values\": 11,\n        \"samples\": [\n          \"Kochi\",\n          \"Pune\",\n          \"Hyderabad\"\n        ],\n        \"semantic_type\": \"\",\n        \"description\": \"\"\n      }\n    },\n    {\n      \"column\": \"Year\",\n      \"properties\": {\n        \"dtype\": \"number\",\n        \"std\": 3,\n        \"min\": 1998,\n        \"max\": 2019,\n        \"num_unique_values\": 22,\n        \"samples\": [\n          2015,\n          2006,\n          2010\n        ],\n        \"semantic_type\": \"\",\n        \"description\": \"\"\n      }\n    },\n    {\n      \"column\": \"Kilometers_Driven\",\n      \"properties\": {\n        \"dtype\": \"number\",\n        \"std\": 92379,\n        \"min\": 171,\n        \"max\": 6500000,\n        \"num_unique_values\": 3019,\n        \"samples\": [\n          56075,\n          75421,\n          143275\n        ],\n        \"semantic_type\": \"\",\n        \"description\": \"\"\n      }\n    },\n    {\n      \"column\": \"Fuel_Type\",\n      \"properties\": {\n        \"dtype\": \"category\",\n        \"num_unique_values\": 3,\n        \"samples\": [\n          \"Diesel\",\n          \"Petrol\",\n          \"Electric\"\n        ],\n        \"semantic_type\": \"\",\n        \"description\": \"\"\n      }\n    },\n    {\n      \"column\": \"Transmission\",\n      \"properties\": {\n        \"dtype\": \"category\",\n        \"num_unique_values\": 2,\n        \"samples\": [\n          \"Automatic\",\n          \"Manual\"\n        ],\n        \"semantic_type\": \"\",\n        \"description\": \"\"\n      }\n    },\n    {\n      \"column\": \"Owner_Type\",\n      \"properties\": {\n        \"dtype\": \"category\",\n        \"num_unique_values\": 4,\n        \"samples\": [\n          \"Second\",\n          \"Third\"\n        ],\n        \"semantic_type\": \"\",\n        \"description\": \"\"\n      }\n    },\n    {\n      \"column\": \"Mileage\",\n      \"properties\": {\n        \"dtype\": \"category\",\n        \"num_unique_values\": 419,\n        \"samples\": [\n          \"18.16 kmpl\",\n          \"23.84 kmpl\"\n        ],\n        \"semantic_type\": \"\",\n        \"description\": \"\"\n      }\n    },\n    {\n      \"column\": \"Engine\",\n      \"properties\": {\n        \"dtype\": \"category\",\n        \"num_unique_values\": 140,\n        \"samples\": [\n          \"2495 CC\",\n          \"1794 CC\"\n        ],\n        \"semantic_type\": \"\",\n        \"description\": \"\"\n      }\n    },\n    {\n      \"column\": \"Power\",\n      \"properties\": {\n        \"dtype\": \"category\",\n        \"num_unique_values\": 361,\n        \"samples\": [\n          \"62.1 bhp\",\n          \"77 bhp\"\n        ],\n        \"semantic_type\": \"\",\n        \"description\": \"\"\n      }\n    },\n    {\n      \"column\": \"Seats\",\n      \"properties\": {\n        \"dtype\": \"number\",\n        \"std\": 0.8066681227182382,\n        \"min\": 2.0,\n        \"max\": 10.0,\n        \"num_unique_values\": 8,\n        \"samples\": [\n          7.0,\n          2.0\n        ],\n        \"semantic_type\": \"\",\n        \"description\": \"\"\n      }\n    },\n    {\n      \"column\": \"New_Price\",\n      \"properties\": {\n        \"dtype\": \"category\",\n        \"num_unique_values\": 534,\n        \"samples\": [\n          \"10.48 Lakh\",\n          \"14.1 Lakh\"\n        ],\n        \"semantic_type\": \"\",\n        \"description\": \"\"\n      }\n    },\n    {\n      \"column\": \"Price\",\n      \"properties\": {\n        \"dtype\": \"number\",\n        \"std\": 11.275965706808531,\n        \"min\": 0.44,\n        \"max\": 160.0,\n        \"num_unique_values\": 1366,\n        \"samples\": [\n          3.98,\n          3.78\n        ],\n        \"semantic_type\": \"\",\n        \"description\": \"\"\n      }\n    }\n  ]\n}"
            }
          },
          "metadata": {},
          "execution_count": 103
        }
      ]
    },
    {
      "cell_type": "markdown",
      "source": [
        "## a)handling missing values"
      ],
      "metadata": {
        "id": "Y6wcMGRweUOP"
      }
    },
    {
      "cell_type": "code",
      "source": [
        "# Drop 'New_Price' if >80% missing\n",
        "if 'New_Price' in df.columns and df['New_Price'].isnull().mean() > 0.8:\n",
        "    df.drop(columns=['New_Price'], inplace=True)\n",
        "\n",
        "# Impute missing values\n",
        "for col in df.columns:\n",
        "    if df[col].isnull().sum() > 0:\n",
        "        if df[col].dtype in ['float64', 'int64']:\n",
        "            df[col] = df[col].fillna(df[col].median())\n",
        "        else:\n",
        "            df[col] = df[col].fillna(df[col].mode()[0])\n",
        "\n",
        "# Display first 10 rows\n",
        "print(df.head().to_string(index=False))\n"
      ],
      "metadata": {
        "colab": {
          "base_uri": "https://localhost:8080/"
        },
        "id": "vxHz0_ePeR9u",
        "outputId": "9f5e8498-8b3f-4e47-c754-1a9989b28990"
      },
      "execution_count": null,
      "outputs": [
        {
          "output_type": "stream",
          "name": "stdout",
          "text": [
            " Unnamed: 0                             Name   Location  Year  Kilometers_Driven Fuel_Type Transmission Owner_Type    Mileage  Engine     Power  Seats  Price\n",
            "          1 Hyundai Creta 1.6 CRDi SX Option       Pune  2015              41000    Diesel       Manual      First 19.67 kmpl 1582 CC 126.2 bhp    5.0  12.50\n",
            "          2                     Honda Jazz V    Chennai  2011              46000    Petrol       Manual      First   13 km/kg 1199 CC  88.7 bhp    5.0   4.50\n",
            "          3                Maruti Ertiga VDI    Chennai  2012              87000    Diesel       Manual      First 20.77 kmpl 1248 CC 88.76 bhp    7.0   6.00\n",
            "          4  Audi A4 New 2.0 TDI Multitronic Coimbatore  2013              40670    Diesel    Automatic     Second  15.2 kmpl 1968 CC 140.8 bhp    5.0  17.74\n",
            "          6           Nissan Micra Diesel XV     Jaipur  2013              86999    Diesel       Manual      First 23.08 kmpl 1461 CC  63.1 bhp    5.0   3.50\n"
          ]
        }
      ]
    },
    {
      "cell_type": "markdown",
      "source": [
        "## Justification for Data Cleaning and Preprocessing\n",
        "Due to its over 80% missing values, the New_Price field was removed since it was not appropriate for trustworthy imputation or analysis.\n",
        "\n",
        "To reduce the impact of outliers and maintain central tendency, missing values in numerical features (such Seats, Power, or Engine) for the remaining columns were imputed using the median.\n",
        "\n",
        "The mode was used to impute missing values in categorical columns (like Owner_Type), making sure that the most common category was selected to preserve logical consistency.\n",
        "\n",
        "This approach guarantees that the dataset is as clean and consistent as feasible for subsequent analysis, while simultaneously preserving as much useful information as possible."
      ],
      "metadata": {
        "id": "Y_Fps3FY7t0N"
      }
    },
    {
      "cell_type": "markdown",
      "source": [
        "## b)removing units from columns"
      ],
      "metadata": {
        "id": "bmM8leeneXUf"
      }
    },
    {
      "cell_type": "code",
      "source": [
        "\n",
        "# Define function to extract numeric part\n",
        "def extract_number(x):\n",
        "    if pd.isnull(x):\n",
        "        return np.nan\n",
        "    return float(str(x).split()[0].replace(',', ''))\n",
        "\n",
        "# Clean columns if they exist\n",
        "if 'Mileage' in df.columns:\n",
        "    df['Mileage'] = df['Mileage'].apply(extract_number)\n",
        "\n",
        "if 'Engine' in df.columns:\n",
        "    df['Engine'] = df['Engine'].apply(extract_number)\n",
        "\n",
        "if 'Power' in df.columns:\n",
        "    df['Power'] = df['Power'].apply(lambda x: extract_number(str(x).replace('bhp', '')))\n",
        "\n",
        "if 'New_Price' in df.columns:\n",
        "    df['New_Price'] = df['New_Price'].astype(str).str.replace('Lakh', '', regex=False)\n",
        "    df['New_Price'] = df['New_Price'].apply(lambda x: float(x) if x.replace('.', '', 1).isdigit() else np.nan)\n",
        "\n",
        "# Display first 5 rows of the full dataset in original format with cleaned values\n",
        "print(df.head().to_string(index=False))\n"
      ],
      "metadata": {
        "colab": {
          "base_uri": "https://localhost:8080/"
        },
        "id": "IHgS6Zy9eZ_p",
        "outputId": "7c9f6680-89a4-43c5-940e-f01f8b29c798"
      },
      "execution_count": null,
      "outputs": [
        {
          "output_type": "stream",
          "name": "stdout",
          "text": [
            " Unnamed: 0                             Name   Location  Year  Kilometers_Driven Fuel_Type Transmission Owner_Type  Mileage  Engine  Power  Seats  Price\n",
            "          1 Hyundai Creta 1.6 CRDi SX Option       Pune  2015              41000    Diesel       Manual      First    19.67  1582.0 126.20    5.0  12.50\n",
            "          2                     Honda Jazz V    Chennai  2011              46000    Petrol       Manual      First    13.00  1199.0  88.70    5.0   4.50\n",
            "          3                Maruti Ertiga VDI    Chennai  2012              87000    Diesel       Manual      First    20.77  1248.0  88.76    7.0   6.00\n",
            "          4  Audi A4 New 2.0 TDI Multitronic Coimbatore  2013              40670    Diesel    Automatic     Second    15.20  1968.0 140.80    5.0  17.74\n",
            "          6           Nissan Micra Diesel XV     Jaipur  2013              86999    Diesel       Manual      First    23.08  1461.0  63.10    5.0   3.50\n"
          ]
        }
      ]
    },
    {
      "cell_type": "markdown",
      "source": [
        "## c)one hot encode fueltype and transmission"
      ],
      "metadata": {
        "id": "Io3eqAxyebr3"
      }
    },
    {
      "cell_type": "code",
      "source": [
        "df_encoded = pd.get_dummies(df, columns=['Fuel_Type', 'Transmission'], drop_first=False)\n",
        "\n",
        "# Convert any boolean columns to integers (0/1), just in case\n",
        "for col in df_encoded.columns:\n",
        "    if df_encoded[col].dtype == bool:\n",
        "        df_encoded[col] = df_encoded[col].astype(int)\n",
        "\n",
        "# Display first 5 rows of the encoded columns only\n",
        "encoded_columns = [col for col in df_encoded.columns if 'Fuel_Type_' in col or 'Transmission_' in col]\n",
        "print(df_encoded[encoded_columns].head(5).to_string(index=False))"
      ],
      "metadata": {
        "colab": {
          "base_uri": "https://localhost:8080/"
        },
        "id": "3u3wmd4Hedbj",
        "outputId": "cc9afc0e-36f7-4a92-9f6a-cd4c6637c2c0"
      },
      "execution_count": null,
      "outputs": [
        {
          "output_type": "stream",
          "name": "stdout",
          "text": [
            " Fuel_Type_Diesel  Fuel_Type_Electric  Fuel_Type_Petrol  Transmission_Automatic  Transmission_Manual\n",
            "                1                   0                 0                       0                    1\n",
            "                0                   0                 1                       0                    1\n",
            "                1                   0                 0                       0                    1\n",
            "                1                   0                 0                       1                    0\n",
            "                1                   0                 0                       0                    1\n"
          ]
        }
      ]
    },
    {
      "cell_type": "markdown",
      "source": [
        "## d) Creating new feature-car age"
      ],
      "metadata": {
        "id": "LohVzrmKeezU"
      }
    },
    {
      "cell_type": "code",
      "source": [
        "from datetime import datetime\n",
        "current_year = datetime.now().year\n",
        "df['Car_Age'] = current_year - df['Year']\n",
        "#print(df['Car_Age'])\n",
        "print(df[['Name', 'Year', 'Car_Age']].head())\n"
      ],
      "metadata": {
        "colab": {
          "base_uri": "https://localhost:8080/"
        },
        "id": "VUie5s9JeiWB",
        "outputId": "99ed8082-653e-4559-b243-0012fd624da7"
      },
      "execution_count": null,
      "outputs": [
        {
          "output_type": "stream",
          "name": "stdout",
          "text": [
            "                               Name  Year  Car_Age\n",
            "0  Hyundai Creta 1.6 CRDi SX Option  2015       10\n",
            "1                      Honda Jazz V  2011       14\n",
            "2                 Maruti Ertiga VDI  2012       13\n",
            "3   Audi A4 New 2.0 TDI Multitronic  2013       12\n",
            "4            Nissan Micra Diesel XV  2013       12\n"
          ]
        }
      ]
    },
    {
      "cell_type": "markdown",
      "source": [
        "## e) Performing select,filter,rename,mutate,arrange,summarize operations"
      ],
      "metadata": {
        "id": "3NUbeRp8elF9"
      }
    },
    {
      "cell_type": "code",
      "source": [
        "# Split Name into Make and Model (fix applied)\n",
        "df[['Make', 'Model']] = df['Name'].str.split(' ', n=1, expand=True)\n",
        "\n",
        "\n",
        "# Identify encoded columns for Fuel and Transmission\n",
        "encoded_fuel = [col for col in df.columns if 'Fuel_Type' in col]\n",
        "encoded_trans = [col for col in df.columns if 'Transmission' in col]\n",
        "\n",
        "# Select relevant columns\n",
        "selected_cols = ['Make', 'Model', 'Price', 'Car_Age'] + encoded_fuel + encoded_trans\n",
        "selected_df = df[selected_cols]\n",
        "\n",
        "# Filter cars older than 10 years and price > 5 lakh\n",
        "filtered_df = selected_df[(df['Car_Age'] > 10) & (df['Price'] > 5)]\n",
        "\n",
        "# Rename 'Price' to 'Used_Price'\n",
        "renamed_df = filtered_df.rename(columns={'Price': 'Used_Price'})\n",
        "\n",
        "# Add new column: Price per Year\n",
        "renamed_df['Price_per_Year'] = renamed_df['Used_Price'] / renamed_df['Car_Age']\n",
        "\n",
        "# Arrange by price descending\n",
        "arranged_df = renamed_df.sort_values(by='Used_Price', ascending=False)\n",
        "\n",
        "# Summarize: group by Make\n",
        "summary = df.groupby('Make').agg(\n",
        "    Avg_Price=('Price', 'mean'),\n",
        "    Count=('Price', 'count')\n",
        ").reset_index()\n",
        "\n",
        "# Display sample outputs\n",
        "print(\"Top 5 sorted cars:\\n\", arranged_df.head())\n",
        "print(\"\\nGrouped Summary by Make:\\n\", summary.head())\n"
      ],
      "metadata": {
        "colab": {
          "base_uri": "https://localhost:8080/"
        },
        "id": "Dqx8g2TNem2-",
        "outputId": "db4f9288-447c-4cce-efe0-8c6d8a4c8736"
      },
      "execution_count": null,
      "outputs": [
        {
          "output_type": "stream",
          "name": "stdout",
          "text": [
            "Top 5 sorted cars:\n",
            "                Make                                       Model  Used_Price  \\\n",
            "5620    Lamborghini                              Gallardo Coupe       120.0   \n",
            "4556  Mercedes-Benz                            SLK-Class 55 AMG        90.0   \n",
            "3383        Porsche                             Panamera Diesel        75.0   \n",
            "5448        Porsche                   Panamera 2010 2013 Diesel        72.0   \n",
            "1307           Land  Rover Range Rover 3.6 TDV8 Vogue SE Diesel        70.0   \n",
            "\n",
            "      Car_Age Fuel_Type Transmission  Price_per_Year  \n",
            "5620       14    Petrol    Automatic        8.571429  \n",
            "4556       11    Petrol    Automatic        8.181818  \n",
            "3383       12    Diesel    Automatic        6.250000  \n",
            "5448       12    Diesel    Automatic        6.000000  \n",
            "1307       13    Diesel    Automatic        5.384615  \n",
            "\n",
            "Grouped Summary by Make:\n",
            "          Make  Avg_Price  Count\n",
            "0  Ambassador   1.350000      1\n",
            "1        Audi  25.569787    235\n",
            "2         BMW  25.243146    267\n",
            "3     Bentley  59.000000      1\n",
            "4   Chevrolet   3.057333    120\n"
          ]
        }
      ]
    }
  ]
}